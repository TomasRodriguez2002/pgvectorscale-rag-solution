{
 "cells": [
  {
   "cell_type": "code",
   "execution_count": null,
   "id": "9d92231d-d391-47ea-b22d-6a4e20911fc2",
   "metadata": {},
   "outputs": [],
   "source": [
    "from datetime import datetime\n",
    "from database.vector_store import VectorStore\n",
    "from services.synthesizer import Synthesizer\n",
    "from timescale_vector import client\n",
    "\n",
    "# Initialize VectorStore\n",
    "vec = VectorStore()"
   ]
  },
  {
   "cell_type": "code",
   "execution_count": null,
   "id": "d067a640-4f97-49bc-8766-d13dfebd3686",
   "metadata": {},
   "outputs": [],
   "source": [
    "irrelevant_question = \"Cuantos goles hizo Messi en el partido de la semana?\""
   ]
  },
  {
   "cell_type": "code",
   "execution_count": null,
   "id": "3916aecc-df65-477f-898d-45516fa08cf4",
   "metadata": {},
   "outputs": [
    {
     "name": "stderr",
     "output_type": "stream",
     "text": [
      "2025-05-07 15:28:01,226 - INFO - HTTP Request: POST https://api.openai.com/v1/embeddings \"HTTP/1.1 200 OK\"\n",
      "2025-05-07 15:28:01,229 - INFO - Embedding generated in 1.422 seconds\n",
      "2025-05-07 15:28:01,229 - INFO - Embedding generated in 1.422 seconds\n",
      "2025-05-07 15:28:01,292 - INFO - Vector search completed in 0.063 seconds\n"
     ]
    }
   ],
   "source": [
    "results = vec.search(irrelevant_question, limit=3)"
   ]
  },
  {
   "cell_type": "code",
   "execution_count": null,
   "id": "4bc24440-5824-463a-8014-dbb287e02f98",
   "metadata": {},
   "outputs": [
    {
     "data": {
      "text/html": [
       "<div>\n",
       "<style scoped>\n",
       "    .dataframe tbody tr th:only-of-type {\n",
       "        vertical-align: middle;\n",
       "    }\n",
       "\n",
       "    .dataframe tbody tr th {\n",
       "        vertical-align: top;\n",
       "    }\n",
       "\n",
       "    .dataframe thead th {\n",
       "        text-align: right;\n",
       "    }\n",
       "</style>\n",
       "<table border=\"1\" class=\"dataframe\">\n",
       "  <thead>\n",
       "    <tr style=\"text-align: right;\">\n",
       "      <th></th>\n",
       "      <th>id</th>\n",
       "      <th>content</th>\n",
       "      <th>embedding</th>\n",
       "      <th>distance</th>\n",
       "      <th>category</th>\n",
       "      <th>created_at</th>\n",
       "    </tr>\n",
       "  </thead>\n",
       "  <tbody>\n",
       "    <tr>\n",
       "      <th>0</th>\n",
       "      <td>8a8d3924-2aeb-11f0-acf8-3af954463999</td>\n",
       "      <td>Question: ¿Con qué moneda se pagan las compras...</td>\n",
       "      <td>[0.0020317037, -0.0462656, 0.021938974, 0.0056...</td>\n",
       "      <td>0.816931</td>\n",
       "      <td>Compras</td>\n",
       "      <td>2025-05-06T23:32:37.867754</td>\n",
       "    </tr>\n",
       "    <tr>\n",
       "      <th>1</th>\n",
       "      <td>8c7a2878-2aeb-11f0-9882-1c0a278b5b13</td>\n",
       "      <td>Question: Un cupón que apliqué en la compra no...</td>\n",
       "      <td>[-0.021192303, -0.0059905457, -0.0011025212, 0...</td>\n",
       "      <td>0.820132</td>\n",
       "      <td>Compras</td>\n",
       "      <td>2025-05-06T23:32:41.098252</td>\n",
       "    </tr>\n",
       "    <tr>\n",
       "      <th>2</th>\n",
       "      <td>8bdb37c2-2aeb-11f0-a9b4-c68fcf04f2a5</td>\n",
       "      <td>Question: Cómo y cuándo opinar sobre el vended...</td>\n",
       "      <td>[0.046491534, -0.025655389, -0.03110235, 0.032...</td>\n",
       "      <td>0.841879</td>\n",
       "      <td>Opiniones</td>\n",
       "      <td>2025-05-06T23:32:40.056621</td>\n",
       "    </tr>\n",
       "  </tbody>\n",
       "</table>\n",
       "</div>"
      ],
      "text/plain": [
       "                                     id  \\\n",
       "0  8a8d3924-2aeb-11f0-acf8-3af954463999   \n",
       "1  8c7a2878-2aeb-11f0-9882-1c0a278b5b13   \n",
       "2  8bdb37c2-2aeb-11f0-a9b4-c68fcf04f2a5   \n",
       "\n",
       "                                             content  \\\n",
       "0  Question: ¿Con qué moneda se pagan las compras...   \n",
       "1  Question: Un cupón que apliqué en la compra no...   \n",
       "2  Question: Cómo y cuándo opinar sobre el vended...   \n",
       "\n",
       "                                           embedding  distance    category  \\\n",
       "0  [0.0020317037, -0.0462656, 0.021938974, 0.0056...  0.816931     Compras   \n",
       "1  [-0.021192303, -0.0059905457, -0.0011025212, 0...  0.820132     Compras   \n",
       "2  [0.046491534, -0.025655389, -0.03110235, 0.032...  0.841879   Opiniones   \n",
       "\n",
       "                   created_at  \n",
       "0  2025-05-06T23:32:37.867754  \n",
       "1  2025-05-06T23:32:41.098252  \n",
       "2  2025-05-06T23:32:40.056621  "
      ]
     },
     "execution_count": 4,
     "metadata": {},
     "output_type": "execute_result"
    }
   ],
   "source": [
    "results"
   ]
  },
  {
   "cell_type": "code",
   "execution_count": null,
   "id": "ca78bd68-d26c-4e98-a583-7c73d07d112b",
   "metadata": {},
   "outputs": [
    {
     "name": "stderr",
     "output_type": "stream",
     "text": [
      "2025-05-07 15:28:17,165 - INFO - HTTP Request: POST https://api.openai.com/v1/chat/completions \"HTTP/1.1 200 OK\"\n"
     ]
    }
   ],
   "source": [
    "response = Synthesizer.generate_response(question=irrelevant_question, context=results)"
   ]
  },
  {
   "cell_type": "code",
   "execution_count": null,
   "id": "3bca366e-42e5-476d-b1f0-df2122a1f6a8",
   "metadata": {},
   "outputs": [
    {
     "name": "stdout",
     "output_type": "stream",
     "text": [
      "\n",
      "Lo siento, no tengo suficiente información en el contexto proporcionado para responder cuántos goles hizo Messi en el partido de la semana.\n",
      "\n",
      "Thought process:\n",
      "- La pregunta del usuario es sobre un evento deportivo específico, mientras que el contexto proporcionado está relacionado con compras y opiniones en una plataforma de comercio electrónico.\n",
      "- No hay información en el contexto que mencione eventos deportivos, partidos de fútbol o detalles sobre el rendimiento de Messi.\n",
      "- No puedo responder a la pregunta del usuario con la información proporcionada.\n",
      "\n",
      "Context: False\n"
     ]
    }
   ],
   "source": [
    "print(f\"\\n{response.answer}\")\n",
    "print(\"\\nThought process:\")\n",
    "for thought in response.thought_process:\n",
    "    print(f\"- {thought}\")\n",
    "print(f\"\\nContext: {response.enough_context}\")"
   ]
  },
  {
   "cell_type": "code",
   "execution_count": null,
   "id": "5ae2e060-4761-413e-b382-2e10a6dfc7e5",
   "metadata": {},
   "outputs": [],
   "source": [
    "relevant_question = \"Cuantos goles hizo Messi en el partido de la semana?\""
   ]
  },
  {
   "cell_type": "code",
   "execution_count": null,
   "id": "93be4b92-238c-4e0d-aa58-ce1e16257b66",
   "metadata": {},
   "outputs": [],
   "source": [
    "predicates = client.Predicates(\"category\", \"==\", \"Compras\") | client.Predicates(\"category\", \"==\", \"Devoluciones\") | client.Predicates(\"category\", \"==\", \"Cancelaciones\")"
   ]
  },
  {
   "cell_type": "code",
   "execution_count": null,
   "id": "988cac73-b775-4cf8-b6e2-2397631a9870",
   "metadata": {},
   "outputs": [
    {
     "name": "stderr",
     "output_type": "stream",
     "text": [
      "2025-05-07 18:52:42,618 - INFO - HTTP Request: POST https://api.openai.com/v1/embeddings \"HTTP/1.1 200 OK\"\n",
      "2025-05-07 18:52:42,622 - INFO - Embedding generated in 1.117 seconds\n",
      "2025-05-07 18:52:42,622 - INFO - Embedding generated in 1.117 seconds\n",
      "2025-05-07 18:52:42,683 - INFO - Vector search completed in 0.060 seconds\n"
     ]
    }
   ],
   "source": [
    "results = vec.search(relevant_question, limit=3, predicates=predicates)"
   ]
  },
  {
   "cell_type": "code",
   "execution_count": null,
   "id": "aea5f852-4734-497f-b365-17d2ed533201",
   "metadata": {},
   "outputs": [
    {
     "data": {
      "text/html": [
       "<div>\n",
       "<style scoped>\n",
       "    .dataframe tbody tr th:only-of-type {\n",
       "        vertical-align: middle;\n",
       "    }\n",
       "\n",
       "    .dataframe tbody tr th {\n",
       "        vertical-align: top;\n",
       "    }\n",
       "\n",
       "    .dataframe thead th {\n",
       "        text-align: right;\n",
       "    }\n",
       "</style>\n",
       "<table border=\"1\" class=\"dataframe\">\n",
       "  <thead>\n",
       "    <tr style=\"text-align: right;\">\n",
       "      <th></th>\n",
       "      <th>id</th>\n",
       "      <th>content</th>\n",
       "      <th>embedding</th>\n",
       "      <th>distance</th>\n",
       "      <th>category</th>\n",
       "      <th>created_at</th>\n",
       "    </tr>\n",
       "  </thead>\n",
       "  <tbody>\n",
       "    <tr>\n",
       "      <th>0</th>\n",
       "      <td>8696aba2-2aeb-11f0-a33b-672ddf1b67ac</td>\n",
       "      <td>Question: Un vendedor canceló mi compra\\nAnswe...</td>\n",
       "      <td>[0.030023128, -0.03369943, 0.0013774163, 0.050...</td>\n",
       "      <td>0.863198</td>\n",
       "      <td>Cancelaciones</td>\n",
       "      <td>2025-05-06T23:32:31.219783</td>\n",
       "    </tr>\n",
       "  </tbody>\n",
       "</table>\n",
       "</div>"
      ],
      "text/plain": [
       "                                     id  \\\n",
       "0  8696aba2-2aeb-11f0-a33b-672ddf1b67ac   \n",
       "\n",
       "                                             content  \\\n",
       "0  Question: Un vendedor canceló mi compra\\nAnswe...   \n",
       "\n",
       "                                           embedding  distance       category  \\\n",
       "0  [0.030023128, -0.03369943, 0.0013774163, 0.050...  0.863198  Cancelaciones   \n",
       "\n",
       "                   created_at  \n",
       "0  2025-05-06T23:32:31.219783  "
      ]
     },
     "execution_count": 28,
     "metadata": {},
     "output_type": "execute_result"
    }
   ],
   "source": [
    "results"
   ]
  },
  {
   "cell_type": "code",
   "execution_count": null,
   "id": "3cd54fff-a7aa-4acd-9147-2c86d7272b09",
   "metadata": {},
   "outputs": [],
   "source": [
    "relevant_question = \"Que productos puedo devolver?\""
   ]
  },
  {
   "cell_type": "code",
   "execution_count": null,
   "id": "b4118d81-d8d7-43a1-966f-f89296701848",
   "metadata": {},
   "outputs": [
    {
     "name": "stderr",
     "output_type": "stream",
     "text": [
      "2025-05-07 18:55:55,113 - INFO - HTTP Request: POST https://api.openai.com/v1/embeddings \"HTTP/1.1 200 OK\"\n",
      "2025-05-07 18:55:55,115 - INFO - Embedding generated in 1.694 seconds\n",
      "2025-05-07 18:55:55,115 - INFO - Embedding generated in 1.694 seconds\n",
      "2025-05-07 18:55:55,177 - INFO - Vector search completed in 0.061 seconds\n"
     ]
    }
   ],
   "source": [
    "time_range = (datetime(2025, 5, 1), datetime(2025, 5, 7))\n",
    "results = vec.search(relevant_question, limit=3, time_range=time_range)"
   ]
  },
  {
   "cell_type": "code",
   "execution_count": null,
   "id": "b939a8f8-0a53-474d-afee-0768d1361a38",
   "metadata": {},
   "outputs": [
    {
     "data": {
      "text/html": [
       "<div>\n",
       "<style scoped>\n",
       "    .dataframe tbody tr th:only-of-type {\n",
       "        vertical-align: middle;\n",
       "    }\n",
       "\n",
       "    .dataframe tbody tr th {\n",
       "        vertical-align: top;\n",
       "    }\n",
       "\n",
       "    .dataframe thead th {\n",
       "        text-align: right;\n",
       "    }\n",
       "</style>\n",
       "<table border=\"1\" class=\"dataframe\">\n",
       "  <thead>\n",
       "    <tr style=\"text-align: right;\">\n",
       "      <th></th>\n",
       "      <th>id</th>\n",
       "      <th>content</th>\n",
       "      <th>embedding</th>\n",
       "      <th>distance</th>\n",
       "      <th>category</th>\n",
       "      <th>created_at</th>\n",
       "    </tr>\n",
       "  </thead>\n",
       "  <tbody>\n",
       "    <tr>\n",
       "      <th>0</th>\n",
       "      <td>89d6d4b8-2aeb-11f0-b025-11cb63af3aff</td>\n",
       "      <td>Question: ¿Qué productos puedo devolver?\\nAnsw...</td>\n",
       "      <td>[0.016821733, 0.01638742, 0.0033765286, 0.0047...</td>\n",
       "      <td>0.195194</td>\n",
       "      <td>Devoluciones</td>\n",
       "      <td>2025-05-06T23:32:36.672428</td>\n",
       "    </tr>\n",
       "    <tr>\n",
       "      <th>1</th>\n",
       "      <td>8b6de776-2aeb-11f0-a8df-971d8cd8d362</td>\n",
       "      <td>Question: ¿Qué pasa si me arrepiento de devolv...</td>\n",
       "      <td>[0.025395025, 0.040007066, 0.005383239, 0.0292...</td>\n",
       "      <td>0.377342</td>\n",
       "      <td>Devoluciones</td>\n",
       "      <td>2025-05-06T23:32:39.340547</td>\n",
       "    </tr>\n",
       "    <tr>\n",
       "      <th>2</th>\n",
       "      <td>8b3fe664-2aeb-11f0-8a24-2a4417063b7f</td>\n",
       "      <td>Question: ¿Cómo devuelvo productos si acordé l...</td>\n",
       "      <td>[0.03884306, -0.015771655, 0.028093558, 0.0080...</td>\n",
       "      <td>0.437198</td>\n",
       "      <td>Devoluciones</td>\n",
       "      <td>2025-05-06T23:32:39.038730</td>\n",
       "    </tr>\n",
       "  </tbody>\n",
       "</table>\n",
       "</div>"
      ],
      "text/plain": [
       "                                     id  \\\n",
       "0  89d6d4b8-2aeb-11f0-b025-11cb63af3aff   \n",
       "1  8b6de776-2aeb-11f0-a8df-971d8cd8d362   \n",
       "2  8b3fe664-2aeb-11f0-8a24-2a4417063b7f   \n",
       "\n",
       "                                             content  \\\n",
       "0  Question: ¿Qué productos puedo devolver?\\nAnsw...   \n",
       "1  Question: ¿Qué pasa si me arrepiento de devolv...   \n",
       "2  Question: ¿Cómo devuelvo productos si acordé l...   \n",
       "\n",
       "                                           embedding  distance       category  \\\n",
       "0  [0.016821733, 0.01638742, 0.0033765286, 0.0047...  0.195194   Devoluciones   \n",
       "1  [0.025395025, 0.040007066, 0.005383239, 0.0292...  0.377342   Devoluciones   \n",
       "2  [0.03884306, -0.015771655, 0.028093558, 0.0080...  0.437198   Devoluciones   \n",
       "\n",
       "                   created_at  \n",
       "0  2025-05-06T23:32:36.672428  \n",
       "1  2025-05-06T23:32:39.340547  \n",
       "2  2025-05-06T23:32:39.038730  "
      ]
     },
     "execution_count": 34,
     "metadata": {},
     "output_type": "execute_result"
    }
   ],
   "source": [
    "results"
   ]
  }
 ],
 "metadata": {
  "language_info": {
   "codemirror_mode": {
    "name": "ipython",
    "version": 3
   },
   "file_extension": ".py",
   "mimetype": "text/x-python",
   "name": "python",
   "nbconvert_exporter": "python",
   "pygments_lexer": "ipython3",
   "version": 3
  }
 },
 "nbformat": 4,
 "nbformat_minor": 2
}
