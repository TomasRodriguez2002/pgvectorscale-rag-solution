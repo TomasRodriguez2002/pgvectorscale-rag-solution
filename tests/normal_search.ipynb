{
 "cells": [
  {
   "cell_type": "code",
   "execution_count": null,
   "id": "0568c89d-debb-4aba-9dc4-e6641be99990",
   "metadata": {},
   "outputs": [],
   "source": [
    "from datetime import datetime\n",
    "from database.vector_store import VectorStore\n",
    "from services.synthesizer import Synthesizer\n",
    "from timescale_vector import client\n",
    "\n",
    "# Initialize VectorStore\n",
    "vec = VectorStore()"
   ]
  },
  {
   "cell_type": "code",
   "execution_count": null,
   "id": "396d47f3-2ab2-4f66-9c59-a5aee8f7d9f1",
   "metadata": {},
   "outputs": [],
   "source": [
    "relevant_question = \"Que productos puedo devolver?\""
   ]
  },
  {
   "cell_type": "code",
   "execution_count": null,
   "id": "ea319afb-5b28-445b-bb9c-308dcfc35524",
   "metadata": {},
   "outputs": [
    {
     "name": "stderr",
     "output_type": "stream",
     "text": [
      "2025-05-06 23:35:17,487 - INFO - HTTP Request: POST https://api.openai.com/v1/embeddings \"HTTP/1.1 200 OK\"\n",
      "2025-05-06 23:35:17,488 - INFO - Embedding generated in 0.682 seconds\n",
      "2025-05-06 23:35:17,488 - INFO - Embedding generated in 0.682 seconds\n",
      "2025-05-06 23:35:17,592 - INFO - Vector search completed in 0.103 seconds\n"
     ]
    }
   ],
   "source": [
    "results = vec.search(relevant_question, limit=3)"
   ]
  },
  {
   "cell_type": "code",
   "execution_count": null,
   "id": "80a5a92e-8f42-4133-bbc6-cf9b54d51c6e",
   "metadata": {},
   "outputs": [
    {
     "data": {
      "text/html": [
       "<div>\n",
       "<style scoped>\n",
       "    .dataframe tbody tr th:only-of-type {\n",
       "        vertical-align: middle;\n",
       "    }\n",
       "\n",
       "    .dataframe tbody tr th {\n",
       "        vertical-align: top;\n",
       "    }\n",
       "\n",
       "    .dataframe thead th {\n",
       "        text-align: right;\n",
       "    }\n",
       "</style>\n",
       "<table border=\"1\" class=\"dataframe\">\n",
       "  <thead>\n",
       "    <tr style=\"text-align: right;\">\n",
       "      <th></th>\n",
       "      <th>id</th>\n",
       "      <th>content</th>\n",
       "      <th>embedding</th>\n",
       "      <th>distance</th>\n",
       "      <th>category</th>\n",
       "      <th>created_at</th>\n",
       "    </tr>\n",
       "  </thead>\n",
       "  <tbody>\n",
       "    <tr>\n",
       "      <th>0</th>\n",
       "      <td>89d6d4b8-2aeb-11f0-b025-11cb63af3aff</td>\n",
       "      <td>Question: ¿Qué productos puedo devolver?\\nAnsw...</td>\n",
       "      <td>[0.016821733, 0.01638742, 0.0033765286, 0.0047...</td>\n",
       "      <td>0.195223</td>\n",
       "      <td>Devoluciones</td>\n",
       "      <td>2025-05-06T23:32:36.672428</td>\n",
       "    </tr>\n",
       "    <tr>\n",
       "      <th>1</th>\n",
       "      <td>8b6de776-2aeb-11f0-a8df-971d8cd8d362</td>\n",
       "      <td>Question: ¿Qué pasa si me arrepiento de devolv...</td>\n",
       "      <td>[0.025395025, 0.040007066, 0.005383239, 0.0292...</td>\n",
       "      <td>0.377369</td>\n",
       "      <td>Devoluciones</td>\n",
       "      <td>2025-05-06T23:32:39.340547</td>\n",
       "    </tr>\n",
       "    <tr>\n",
       "      <th>2</th>\n",
       "      <td>8b3fe664-2aeb-11f0-8a24-2a4417063b7f</td>\n",
       "      <td>Question: ¿Cómo devuelvo productos si acordé l...</td>\n",
       "      <td>[0.03884306, -0.015771655, 0.028093558, 0.0080...</td>\n",
       "      <td>0.437195</td>\n",
       "      <td>Devoluciones</td>\n",
       "      <td>2025-05-06T23:32:39.038730</td>\n",
       "    </tr>\n",
       "  </tbody>\n",
       "</table>\n",
       "</div>"
      ],
      "text/plain": [
       "                                     id  \\\n",
       "0  89d6d4b8-2aeb-11f0-b025-11cb63af3aff   \n",
       "1  8b6de776-2aeb-11f0-a8df-971d8cd8d362   \n",
       "2  8b3fe664-2aeb-11f0-8a24-2a4417063b7f   \n",
       "\n",
       "                                             content  \\\n",
       "0  Question: ¿Qué productos puedo devolver?\\nAnsw...   \n",
       "1  Question: ¿Qué pasa si me arrepiento de devolv...   \n",
       "2  Question: ¿Cómo devuelvo productos si acordé l...   \n",
       "\n",
       "                                           embedding  distance       category  \\\n",
       "0  [0.016821733, 0.01638742, 0.0033765286, 0.0047...  0.195223   Devoluciones   \n",
       "1  [0.025395025, 0.040007066, 0.005383239, 0.0292...  0.377369   Devoluciones   \n",
       "2  [0.03884306, -0.015771655, 0.028093558, 0.0080...  0.437195   Devoluciones   \n",
       "\n",
       "                   created_at  \n",
       "0  2025-05-06T23:32:36.672428  \n",
       "1  2025-05-06T23:32:39.340547  \n",
       "2  2025-05-06T23:32:39.038730  "
      ]
     },
     "execution_count": 4,
     "metadata": {},
     "output_type": "execute_result"
    }
   ],
   "source": [
    "results"
   ]
  },
  {
   "cell_type": "code",
   "execution_count": null,
   "id": "c47f5878-771a-49d1-9a27-1d0efe72c531",
   "metadata": {},
   "outputs": [
    {
     "name": "stderr",
     "output_type": "stream",
     "text": [
      "2025-05-06 23:53:11,762 - INFO - HTTP Request: POST https://api.openai.com/v1/chat/completions \"HTTP/1.1 200 OK\"\n"
     ]
    }
   ],
   "source": [
    "response = Synthesizer.generate_response(question=relevant_question, context=results)"
   ]
  },
  {
   "cell_type": "code",
   "execution_count": null,
   "id": "e6d89ad8-31a9-4b86-8782-8ae59d07121d",
   "metadata": {},
   "outputs": [
    {
     "name": "stdout",
     "output_type": "stream",
     "text": [
      "\n",
      "Podés devolver cualquier compra, excepto los productos de las categorías sin devolución. Lamentablemente, no se especifican cuáles son esas categorías en la información proporcionada.\n",
      "\n",
      "Thought process:\n",
      "- The user is asking about which products can be returned.\n",
      "- The context provides information that any purchase can be returned except for products in categories without returns.\n",
      "- There is no specific list of categories without returns provided in the context.\n",
      "- I will use the available information to answer the user's question.\n",
      "\n",
      "Context: True\n"
     ]
    }
   ],
   "source": [
    "print(f\"\\n{response.answer}\")\n",
    "print(\"\\nThought process:\")\n",
    "for thought in response.thought_process:\n",
    "    print(f\"- {thought}\")\n",
    "print(f\"\\nContext: {response.enough_context}\")"
   ]
  }
 ],
 "metadata": {
  "language_info": {
   "codemirror_mode": {
    "name": "ipython",
    "version": 3
   },
   "file_extension": ".py",
   "mimetype": "text/x-python",
   "name": "python",
   "nbconvert_exporter": "python",
   "pygments_lexer": "ipython3",
   "version": 3
  }
 },
 "nbformat": 4,
 "nbformat_minor": 2
}
